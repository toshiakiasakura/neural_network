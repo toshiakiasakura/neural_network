{
 "cells": [
  {
   "cell_type": "markdown",
   "metadata": {},
   "source": [
    "# backpropagation"
   ]
  },
  {
   "cell_type": "code",
   "execution_count": 16,
   "metadata": {
    "ExecuteTime": {
     "end_time": "2019-02-11T06:34:38.190399Z",
     "start_time": "2019-02-11T06:34:38.175715Z"
    },
    "scrolled": true
   },
   "outputs": [],
   "source": [
    "import pandas as pd\n",
    "import numpy as np\n",
    "import matplotlib.pyplot as plt\n",
    "%matplotlib inline\n",
    "import seaborn as sns\n",
    "sns.set(context=\"paper\" , style =\"whitegrid\",rc={\"figure.facecolor\":\"white\"})\n",
    "\n",
    "from numpy.random import * \n"
   ]
  },
  {
   "cell_type": "markdown",
   "metadata": {},
   "source": [
    "## Multiple Perceptron "
   ]
  },
  {
   "cell_type": "code",
   "execution_count": 17,
   "metadata": {
    "ExecuteTime": {
     "end_time": "2019-02-11T06:35:15.687904Z",
     "start_time": "2019-02-11T06:35:15.646975Z"
    }
   },
   "outputs": [],
   "source": [
    "class Net():\n",
    "    def activation(self,x):\n",
    "        return(1/(1+np.exp(-x)))\n",
    "    \n",
    "    def propa(self,xx = None):\n",
    "        if  xx :\n",
    "            self.l[0] = xx \n",
    "        for i in range(self.n_layer -1 ):\n",
    "            u = self.w[i].dot(np.r_[self.l[i],np.array([1])])\n",
    "            self.l[i+1] = self.activation(u)\n",
    "    \n",
    "    def create(self,n_in_e = [3,2,2,5]):\n",
    "        self.n_in_e = n_in_e\n",
    "        self.n_layer = len(n_in_e) \n",
    "        self.l = [[0 for i in range(n_in_e[j])] for j in range(self.n_layer)  ]\n",
    "        self.w = [rand(n_in_e[i+1],n_in_e[i]+1)*2 -1  for i in range(self.n_layer-1)]\n",
    "        self.propa()\n",
    "        \n",
    "    def structure(self):\n",
    "        print(\"# of layers :\",len(self.l))\n",
    "        print(\"# of each neurons for each layer :\",[len(self.l[i]) for i in range(len(self.l))])\n",
    "        print(\"----------weights----------\")\n",
    "        print(self.w)\n",
    "        print(\"----------state of neurons----------\")\n",
    "        print(self.l)"
   ]
  },
  {
   "cell_type": "code",
   "execution_count": 18,
   "metadata": {
    "ExecuteTime": {
     "end_time": "2019-02-11T06:35:16.030502Z",
     "start_time": "2019-02-11T06:35:16.020932Z"
    }
   },
   "outputs": [
    {
     "name": "stdout",
     "output_type": "stream",
     "text": [
      "None\n",
      "-------checking part-------------\n",
      "# of layers : 4\n",
      "# of each neurons for each layer : [3, 2, 2, 5]\n",
      "----------weights----------\n",
      "[array([[-0.45040974,  0.20210378,  0.87702839,  0.41459262],\n",
      "       [-0.47319367, -0.75532816, -0.08255154,  0.949625  ]]), array([[ 0.36114875, -0.61349254, -0.90652155],\n",
      "       [ 0.90528787,  0.71729803,  0.65580635]]), array([[ 0.92780105,  0.1978729 ,  0.86183167],\n",
      "       [-0.70646237, -0.77207938, -0.2559422 ],\n",
      "       [ 0.53312025, -0.35771594,  0.27607016],\n",
      "       [-0.9815578 ,  0.08693008, -0.32449071],\n",
      "       [ 0.79604862,  0.88141408, -0.2317563 ]])]\n",
      "----------state of neurons----------\n",
      "[[0, 0, 0], array([0.60218859, 0.72103976]), array([0.24390386, 0.84789178]), array([0.77831963, 0.25295934, 0.52567636, 0.37984901, 0.67034521])]\n"
     ]
    }
   ],
   "source": [
    "N1 = Net()\n",
    "print(N1.create([3,2,2,5]))\n",
    "print(\"-------checking part-------------\")\n",
    "N1.structure()"
   ]
  },
  {
   "cell_type": "markdown",
   "metadata": {},
   "source": [
    "# Perceptron"
   ]
  },
  {
   "cell_type": "markdown",
   "metadata": {},
   "source": [
    "## data "
   ]
  },
  {
   "cell_type": "code",
   "execution_count": 19,
   "metadata": {
    "ExecuteTime": {
     "end_time": "2019-02-11T06:35:19.074557Z",
     "start_time": "2019-02-11T06:35:19.067442Z"
    }
   },
   "outputs": [],
   "source": [
    "x = [[0,0],[0,1],[1,0],[1,1]]\n",
    "y = [[0],[1],[1],[0]]"
   ]
  },
  {
   "cell_type": "code",
   "execution_count": 20,
   "metadata": {
    "ExecuteTime": {
     "end_time": "2019-02-11T06:35:19.539582Z",
     "start_time": "2019-02-11T06:35:19.532939Z"
    }
   },
   "outputs": [
    {
     "name": "stdout",
     "output_type": "stream",
     "text": [
      "[0, 0] [0]\n",
      "[0, 1] [1]\n",
      "[1, 0] [1]\n",
      "[1, 1] [0]\n"
     ]
    }
   ],
   "source": [
    "for i ,j in zip(x,y):\n",
    "    print(i,j)"
   ]
  },
  {
   "cell_type": "markdown",
   "metadata": {},
   "source": [
    "## learning section"
   ]
  },
  {
   "cell_type": "code",
   "execution_count": 29,
   "metadata": {
    "ExecuteTime": {
     "end_time": "2019-02-11T06:35:21.666415Z",
     "start_time": "2019-02-11T06:35:21.644574Z"
    }
   },
   "outputs": [],
   "source": [
    "class Net_learn(Net):\n",
    "    nThin = 1000\n",
    "    def update(self,eta,n_epoch,x,y):\n",
    "        self.er_rec = []\n",
    "        for i in range(n_epoch):\n",
    "            del_E = np.zeros(129)\n",
    "            error = 0\n",
    "            for xx, yy in zip(x,y):\n",
    "                self.propa(xx)\n",
    "                output = self.l[-1]\n",
    "                z_hidden = np.r_[self.l[-2],np.array([1])]\n",
    "                del_E = del_E - (yy - output)*output*(1 - output)*z_hidden\n",
    "                if i % self.nThin == 0:\n",
    "                    error = error + np.sum( (yy - output)**2 )\n",
    "            self.w[1] = self.w[1] - eta*del_E\n",
    "            if i%self.nThin == 0:\n",
    "                self.er_rec.append([i,error])\n",
    "                print(i,error,self.l[-1])"
   ]
  },
  {
   "cell_type": "code",
   "execution_count": 30,
   "metadata": {
    "ExecuteTime": {
     "end_time": "2019-02-11T06:35:22.761500Z",
     "start_time": "2019-02-11T06:35:22.741833Z"
    }
   },
   "outputs": [
    {
     "name": "stdout",
     "output_type": "stream",
     "text": [
      "# of layers : 3\n",
      "# of each neurons for each layer : [2, 128, 1]\n",
      "----------weights----------\n",
      "[array([[-0.45040974,  0.        ,  0.87702839],\n",
      "       [ 0.41459262, -0.47319367, -0.75532816],\n",
      "       [ 0.        ,  0.        ,  0.36114875],\n",
      "       [ 0.        , -0.90652155,  0.90528787],\n",
      "       [ 0.        ,  0.        ,  0.92780105],\n",
      "       [ 0.1978729 ,  0.86183167, -0.70646237],\n",
      "       [ 0.        , -0.2559422 ,  0.53312025],\n",
      "       [-0.35771594,  0.27607016, -0.9815578 ],\n",
      "       [ 0.08693008,  0.        ,  0.79604862],\n",
      "       [ 0.88141408, -0.2317563 , -0.20776442],\n",
      "       [ 0.79455989,  0.        , -0.18924142],\n",
      "       [ 0.        , -0.82606118,  0.56792857],\n",
      "       [ 0.        ,  0.        ,  0.75693236],\n",
      "       [ 0.76158412,  0.20190841,  0.29045549],\n",
      "       [-0.88674359, -0.40503181,  0.38354922],\n",
      "       [-0.62194109,  0.60601507,  0.0295275 ],\n",
      "       [ 0.51457208,  0.        , -0.83475942],\n",
      "       [ 0.        ,  0.        ,  0.39261654],\n",
      "       [ 0.        ,  0.34274466,  0.58653865],\n",
      "       [ 0.        ,  0.92671501,  0.95078543],\n",
      "       [ 0.10132157, -0.87018604, -0.30952642],\n",
      "       [ 0.        ,  0.60170362, -0.5841458 ],\n",
      "       [ 0.        ,  0.39978797, -0.88410039],\n",
      "       [ 0.        ,  0.02066357,  0.99051757],\n",
      "       [ 0.        ,  0.        ,  0.20288075],\n",
      "       [ 0.        ,  0.        ,  0.4415998 ],\n",
      "       [ 0.10161213,  0.        ,  0.1606627 ],\n",
      "       [ 0.        ,  0.23100423,  0.77391018],\n",
      "       [ 0.03357856,  0.        ,  0.01011824],\n",
      "       [ 0.81932515,  0.        ,  0.07093743],\n",
      "       [-0.31471375, -0.74084645,  0.3256435 ],\n",
      "       [ 0.87134   ,  0.22545836,  0.685477  ],\n",
      "       [ 0.        ,  0.        , -0.98046005],\n",
      "       [ 0.        ,  0.        ,  0.81508589],\n",
      "       [ 0.        ,  0.16211581, -0.82501389],\n",
      "       [ 0.        ,  0.        ,  0.46559054],\n",
      "       [ 0.        , -0.2850736 ,  0.54642324],\n",
      "       [ 0.        ,  0.        ,  0.50944713],\n",
      "       [-0.45494765,  0.13303399, -0.04663006],\n",
      "       [ 0.11324139,  0.        ,  0.38747473],\n",
      "       [ 0.43647436,  0.51276472, -0.92535598],\n",
      "       [ 0.35767079,  0.        , -0.79965722],\n",
      "       [ 0.        ,  0.        ,  0.46778808],\n",
      "       [ 0.        ,  0.        , -0.92533953],\n",
      "       [ 0.11825061, -0.6782946 , -0.46422363],\n",
      "       [ 0.        ,  0.        , -0.69662715],\n",
      "       [ 0.        ,  0.96366972, -0.27902938],\n",
      "       [ 0.        ,  0.        , -0.49364171],\n",
      "       [-0.52657825,  0.        ,  0.34251381],\n",
      "       [ 0.        ,  0.70631083,  0.04409913],\n",
      "       [-0.11446069,  0.10749688,  0.3039897 ],\n",
      "       [ 0.        ,  0.        , -0.38178968],\n",
      "       [-0.72878046,  0.5018533 ,  0.05366644],\n",
      "       [ 0.56947716,  0.        ,  0.67769318],\n",
      "       [ 0.        , -0.49915213, -0.88221198],\n",
      "       [ 0.        , -0.65160011, -0.1214913 ],\n",
      "       [ 0.62186845,  0.        ,  0.15218142],\n",
      "       [ 0.        ,  0.        ,  0.2758414 ],\n",
      "       [ 0.        ,  0.        ,  0.6133823 ],\n",
      "       [ 0.85703871,  0.        ,  0.96400783],\n",
      "       [ 0.        , -0.98268146, -0.42370884],\n",
      "       [ 0.        , -0.11364583, -0.65390055],\n",
      "       [ 0.        ,  0.59576119,  0.2978103 ],\n",
      "       [ 0.        ,  0.        ,  0.27339166],\n",
      "       [-0.26331619,  0.        ,  0.5241336 ],\n",
      "       [ 0.        , -0.79008518,  0.02126262],\n",
      "       [ 0.        ,  0.        , -0.9964807 ],\n",
      "       [ 0.93409151,  0.61573307, -0.45186482],\n",
      "       [-0.44182079, -0.75864072, -0.03862347],\n",
      "       [ 0.        ,  0.82985485, -0.51224981],\n",
      "       [-0.21028341,  0.94047906, -0.44876073],\n",
      "       [ 0.87569888,  0.53802431,  0.76943738],\n",
      "       [ 0.74200995, -0.70705808,  0.57837758],\n",
      "       [ 0.        ,  0.        ,  0.42406237],\n",
      "       [-0.38524116,  0.        , -0.52729321],\n",
      "       [ 0.        ,  0.        ,  0.23161575],\n",
      "       [ 0.86416735,  0.3821679 ,  0.12569409],\n",
      "       [ 0.        ,  0.05429376,  0.60876583],\n",
      "       [-0.40984821, -0.6333229 , -0.96053508],\n",
      "       [ 0.        ,  0.        , -0.13264066],\n",
      "       [ 0.        ,  0.        ,  0.01867078],\n",
      "       [ 0.        ,  0.        , -0.97714295],\n",
      "       [-0.336312  , -0.87713784,  0.19634702],\n",
      "       [ 0.        ,  0.        , -0.9234556 ],\n",
      "       [-0.83831519, -0.83617092,  0.61873467],\n",
      "       [ 0.60138801, -0.96618038,  0.72258865],\n",
      "       [ 0.82260045, -0.19824663, -0.4262186 ],\n",
      "       [ 0.68608977,  0.        , -0.71880255],\n",
      "       [-0.54248877,  0.        ,  0.68871695],\n",
      "       [ 0.        ,  0.62227528,  0.07190707],\n",
      "       [ 0.        ,  0.04773977,  0.2792583 ],\n",
      "       [ 0.        ,  0.        ,  0.38005277],\n",
      "       [-0.65681396,  0.38786135, -0.42946875],\n",
      "       [ 0.        ,  0.        , -0.40836255],\n",
      "       [ 0.        ,  0.        , -0.61013067],\n",
      "       [ 0.        , -0.79197187, -0.1964363 ],\n",
      "       [ 0.        ,  0.        ,  0.48518148],\n",
      "       [-0.98941898,  0.        , -0.88763204],\n",
      "       [ 0.76865133,  0.97117171,  0.04034937],\n",
      "       [ 0.        ,  0.        ,  0.30919641],\n",
      "       [ 0.58358349,  0.02243136,  0.57642378],\n",
      "       [ 0.        , -0.77349373,  0.80962795],\n",
      "       [ 0.        ,  0.        , -0.73541727],\n",
      "       [ 0.88429984, -0.39414063, -0.5733739 ],\n",
      "       [-0.48867489, -0.80815987, -0.19640423],\n",
      "       [ 0.        ,  0.29641987, -0.49830884],\n",
      "       [-0.54512217,  0.        ,  0.72952993],\n",
      "       [ 0.26812751,  0.        , -0.12575362],\n",
      "       [ 0.        ,  0.        , -0.25526284],\n",
      "       [ 0.        ,  0.        ,  0.18855113],\n",
      "       [ 0.        ,  0.48489517, -0.40234561],\n",
      "       [ 0.        ,  0.        , -0.99118471],\n",
      "       [-0.72043944,  0.        , -0.60881237],\n",
      "       [ 0.        , -0.58001566,  0.55698434],\n",
      "       [ 0.        ,  0.27868079, -0.66460739],\n",
      "       [ 0.        ,  0.4346799 , -0.69037278],\n",
      "       [ 0.44726721, -0.62718015,  0.65932913],\n",
      "       [-0.60671647,  0.        ,  0.09519517],\n",
      "       [ 0.        ,  0.        ,  0.25597592],\n",
      "       [ 0.26655226, -0.39344193,  0.6327355 ],\n",
      "       [ 0.        ,  0.        , -0.46956966],\n",
      "       [ 0.96685094,  0.        , -0.10295082],\n",
      "       [ 0.        , -0.94058789,  0.9818735 ],\n",
      "       [ 0.36189905,  0.        , -0.9099089 ],\n",
      "       [-0.97372091,  0.        , -0.78497531],\n",
      "       [-0.38008472,  0.        , -0.76505555],\n",
      "       [ 0.89386284,  0.9547811 ,  0.80895851],\n",
      "       [ 0.5923603 ,  0.        ,  0.43407725]]), array([[-0.08817913, -0.69703257,  0.29344039, -0.94153086,  0.50704175,\n",
      "         0.77946589, -0.97923992, -0.34514431,  0.65698218, -0.77480481,\n",
      "        -0.95060852,  0.62870706, -0.50218946, -0.50160681, -0.6835264 ,\n",
      "        -0.4478881 , -0.14257931, -0.48315639, -0.26610592, -0.30140881,\n",
      "        -0.33392844, -0.3932656 , -0.36974543, -0.45954965,  0.80058924,\n",
      "         0.93394841,  0.79339709, -0.25344924,  0.29655843, -0.37711637,\n",
      "         0.6199442 ,  0.60954579,  0.58883538, -0.77712965,  0.62319629,\n",
      "         0.55910468,  0.77016031, -0.3551579 , -0.78566914, -0.67750049,\n",
      "         0.34557272,  0.42829979, -0.52553159,  0.61143474,  0.83659259,\n",
      "         0.96924369,  0.99409429,  0.03184792,  0.40016862, -0.84688245,\n",
      "         0.80228299,  0.62716529, -0.28187657,  0.95140747, -0.22802781,\n",
      "        -0.96758122, -0.96265109,  0.08827909, -0.11370737, -0.94859971,\n",
      "        -0.26339097, -0.15935898, -0.18919208,  0.99615533, -0.68664925,\n",
      "        -0.12608219, -0.45953469,  0.93792687,  0.17961808,  0.40837285,\n",
      "         0.29987334,  0.51081417,  0.77062854, -0.49389453, -0.54401239,\n",
      "         0.20528342, -0.52767168,  0.4619726 ,  0.32799784, -0.52145016,\n",
      "        -0.62817054, -0.37444857, -0.26734207,  0.17981358,  0.51847788,\n",
      "        -0.35529844,  0.00404429,  0.16766213, -0.46679823,  0.42769329,\n",
      "        -0.08545779,  0.30046274,  0.00533768, -0.13721287,  0.43553292,\n",
      "        -0.97527831, -0.83941125,  0.15274589,  0.62724343,  0.12307247,\n",
      "         0.20718339, -0.55883835,  0.83908209, -0.5889986 ,  0.37667713,\n",
      "        -0.24958036, -0.57694195,  0.64198268, -0.77085112,  0.54610139,\n",
      "        -0.03387896,  0.89941951,  0.09940743,  0.04885242,  0.74716962,\n",
      "         0.29345164, -0.34153846, -0.97910136, -0.72580918,  0.54063582,\n",
      "         0.66613323,  0.32935931,  0.15111241,  0.81689621,  0.4287503 ,\n",
      "        -0.03619996,  0.41477978,  0.27874584, -0.95012111]])]\n",
      "----------state of neurons----------\n",
      "[[0, 0], array([0.70620605, 0.31966143, 0.58931849, 0.71203495, 0.71662895,\n",
      "       0.330381  , 0.63021057, 0.27258279, 0.68912861, 0.44824493,\n",
      "       0.45283033, 0.63828507, 0.68068735, 0.57210764, 0.59472884,\n",
      "       0.50738134, 0.30263966, 0.59691242, 0.64257056, 0.72127311,\n",
      "       0.42323034, 0.3579792 , 0.2923288 , 0.72919014, 0.55054693,\n",
      "       0.60864017, 0.5400795 , 0.68436614, 0.50252954, 0.51772693,\n",
      "       0.580699  , 0.66496001, 0.27280051, 0.69319222, 0.30470039,\n",
      "       0.61433957, 0.63330536, 0.62467686, 0.4883446 , 0.59567464,\n",
      "       0.28386783, 0.31009885, 0.61486009, 0.28387118, 0.38598434,\n",
      "       0.33256046, 0.43069175, 0.37903605, 0.58480103, 0.511023  ,\n",
      "       0.57541754, 0.40569532, 0.51341339, 0.66322364, 0.29271961,\n",
      "       0.46966448, 0.5379721 , 0.56852639, 0.64871196, 0.72392352,\n",
      "       0.3956296 , 0.3421111 , 0.57390714, 0.56792536, 0.62811383,\n",
      "       0.50531545, 0.26963392, 0.38891748, 0.49034533, 0.37466627,\n",
      "       0.38965545, 0.68339917, 0.640694  , 0.60445493, 0.37114842,\n",
      "       0.55764646, 0.53138222, 0.64765922, 0.27677108, 0.46688837,\n",
      "       0.50466756, 0.27345905, 0.54892966, 0.28425432, 0.64993071,\n",
      "       0.6731768 , 0.39502965, 0.32765672, 0.66568144, 0.51796903,\n",
      "       0.56936438, 0.59388583, 0.3942532 , 0.39930482, 0.35202939,\n",
      "       0.45104823, 0.61897066, 0.29159873, 0.51008597, 0.5766891 ,\n",
      "       0.6402441 , 0.69203022, 0.32400707, 0.36045868, 0.45105617,\n",
      "       0.37793818, 0.67470211, 0.46860296, 0.43652856, 0.54699863,\n",
      "       0.40074891, 0.27067814, 0.35233016, 0.63575449, 0.33970539,\n",
      "       0.33395015, 0.65910967, 0.52378084, 0.56364683, 0.65310947,\n",
      "       0.3847181 , 0.474285  , 0.7274798 , 0.28701848, 0.31324858,\n",
      "       0.31754966, 0.69188752, 0.60684686]), array([0.18392308])]\n"
     ]
    }
   ],
   "source": [
    "Ptr = Net_learn()\n",
    "Ptr.create([2,128,1])\n",
    "np.random.seed(10)\n",
    "for i in range(128):\n",
    "    if rand(1)<0.5:\n",
    "        Ptr.w[0][i,0] = 0\n",
    "    if rand(1) < 0.5:\n",
    "        Ptr.w[0][i,1] = 0\n",
    "Ptr.structure()        "
   ]
  },
  {
   "cell_type": "code",
   "execution_count": 31,
   "metadata": {
    "scrolled": true
   },
   "outputs": [
    {
     "name": "stdout",
     "output_type": "stream",
     "text": [
      "0 1.1953158480573192 [0.47352989]\n",
      "1000 1.272591200179911 [0.35441749]\n",
      "2000 1.2013683741520118 [0.33581989]\n",
      "3000 1.128481610142497 [0.33876717]\n",
      "4000 0.9488670742567731 [0.44830456]\n",
      "5000 1.0634934611134124 [0.7914551]\n",
      "6000 1.548474765559316 [0.9215379]\n",
      "7000 1.6816808378263133 [0.94532027]\n",
      "8000 0.45719202977654677 [0.21111745]\n",
      "9000 1.4142029582720643 [0.88044601]\n"
     ]
    }
   ],
   "source": [
    "Ptr.update(0.5,int(10000),x,y)"
   ]
  },
  {
   "cell_type": "code",
   "execution_count": 32,
   "metadata": {},
   "outputs": [
    {
     "data": {
      "text/plain": [
       "[<matplotlib.lines.Line2D at 0x122b85b70>]"
      ]
     },
     "execution_count": 32,
     "metadata": {},
     "output_type": "execute_result"
    },
    {
     "data": {
      "image/png": "[encoded data removed]",
      "text/plain": [
       "<Figure size 432x288 with 1 Axes>"
      ]
     },
     "metadata": {},
     "output_type": "display_data"
    }
   ],
   "source": [
    "rec = np.ravel(Ptr.er_rec).reshape((2,-1),order=\"F\")\n",
    "plt.yscale(\"log\")\n",
    "plt.plot(rec[0],rec[1])"
   ]
  },
  {
   "cell_type": "markdown",
   "metadata": {},
   "source": [
    "# Multiple Perceptron and Backpropagation"
   ]
  },
  {
   "cell_type": "markdown",
   "metadata": {},
   "source": [
    "## Back propagation theory \n",
    "### notation\n",
    "$ z_{i}^{(l)n} $ : neuron state in i th of l layers. and this state is n th batch.     \n",
    "\\_\\_\\_\\_\\_\\_\\_\\_$ z_{i}^{(l)n} $ is corresponding to z[ l ][ i ]   \n",
    "$ w_{ij}^{(l)} $ :  weights from j to i in l layers. l means between $z^{l}$ and $ z^{l + 1}$   \n",
    "\\_\\_\\_\\_\\_\\_\\_\\_$ w_{ij}^{(l)} $ : is corresponding to w[ l ][ i , j ]  \n",
    "$ E_n $ : is error function for batch n, so $ E $ is written as \n",
    "\\begin{equation}\n",
    "    E = \\sum_n E_n = \\sum_n \\sum_i \\frac{1}{2}( z_i^{Tn} - z_i^{On} )^2\n",
    "\\end{equation}\n",
    "where $ z_i^{Tn} $ is i th teacher data of n th batch  \n",
    "$ z_i^{On} $ is i th output data of n th batch\n",
    "### theory \n",
    "the basic relationship between z and w is\n",
    "\n",
    "\\begin{equation}\n",
    "    z_{i}^{(l+1)n} = f(\\sum_j w_{ij}^{(l)}z_{j}^{(l)n})\n",
    "\\end{equation}   \n",
    "we frequently use this relationship to calculate each renewal equations.\n",
    "\n",
    "the equation for parameteres updates is written as   \n",
    "\n",
    "\\begin{align}\n",
    "  w_{ij}^{(l-1)}(t+1) &= w_{ij}^{(l-1)}(t) - \\eta\\sum_{n}\\frac{\\partial E_n}{\\partial w_{ij}^{(l-1)}} \\\\  \n",
    "  &= w_{ij}^{(l-1)}(t) - \\eta\\sum_{n}\\frac{\\partial E_n}{\\partial z_{i}^{(l)n}}\n",
    "  \\frac{\\partial z_{i}^{(l)n}}{ w_{ij}^{(l-1)}}\n",
    "\\end{align}  \n",
    "\n",
    "\n",
    "    "
   ]
  },
  {
   "cell_type": "markdown",
   "metadata": {},
   "source": [
    "For the output data \n",
    "\\begin{equation}\n",
    "    \\frac{\\partial E_n}{\\partial z_{i}^{(l)n}} = - ( z_{i}^{Tn} - z_{i}^{On}) \\\\\n",
    "    \\frac{\\partial z_{i}^{(l)n}}{w_{ij}^{(l-1)}} = z_{i}^{(l)n}(1 - z_{i}^{(l)n}) z_{j}^{(l-1)n}\n",
    "\\end{equation}\n",
    "This equation below has assumption that activation func. is sigmoid func. \n"
   ]
  },
  {
   "cell_type": "markdown",
   "metadata": {},
   "source": [
    "For the hidden layers,\n",
    "$ \\frac{\\partial z_{i}^{(l)n}}{w_{ij}^{(l-1)}} $ is same.  \n",
    "But derivative of $E_n$ is different. This part is essential for back propagation.\n",
    " \n",
    "The parameter $z_{i}^{(l)n} $ affects all of $ z_{k}^{(l + 1)n} $, so that \n",
    "\n",
    "\\begin{align}\n",
    "    \\frac{\\partial E_n}{\\partial z_{i}^{(l)n}} &= \\sum_k \\frac{\\partial E_n}{\\partial z_{k}^{(l+1 )n}}\\frac{\\partial z_{k}^{(l+1)n}}{\\partial z_{i}^{(l)n}} \\\\\n",
    "    &= \\sum_k \\frac{\\partial E_n}{\\partial z_{k}^{(l+1 )n}}z_k^{(l+1)}(1- z_k^{(l+1)n})w_{ki}^{(l)} \n",
    "\\end{align}"
   ]
  },
  {
   "cell_type": "markdown",
   "metadata": {},
   "source": [
    "### For implementation \n",
    "we have to prepare \n",
    "1. Network ( # of layers, # of neurons for each layers ) \n",
    "2. store derivative values for neurons for each batch ( lack first input of network structure ) \n",
    "3. store derivative values for weights for each epoch\n",
    "\n",
    "### Algorithm \n",
    "for n\\_epoch     \n",
    "|\\_\\_\\_for n\\_batch   \n",
    "|\\_\\_\\_\\_\\_\\_1. propagation  \n",
    "|\\_\\_\\_\\_\\_\\_2. back propagation  \n",
    "|\\_\\_\\_\\_\\_\\_3. store derivative values  \n",
    "|\\_\\_\\_4. parameter update\n",
    "<br><br><br><br><br><br>\n",
    "<img src=\"back_propagation.jpg\" alt=\"Drawing\" style=\"width: 800px; transform :rotate(90deg);\"/>\n",
    "<br>"
   ]
  },
  {
   "cell_type": "code",
   "execution_count": 33,
   "metadata": {
    "ExecuteTime": {
     "end_time": "2019-02-11T06:35:36.288339Z",
     "start_time": "2019-02-11T06:35:36.124702Z"
    }
   },
   "outputs": [],
   "source": [
    "class backpropagation(Net):\n",
    "    def get_l_ptl(self,yy):\n",
    "        self.l_ptl = [0 for i in self.n_in_e[1:]] \n",
    "        self.l_ptl[-1] = -(yy - self.l[-1])\n",
    "        for i in range(1,self.n_layer -1 ):\n",
    "            self.l_ptl[-(i+1)] = self.w[-i][:,:-1].T.dot(self.l_ptl[-i]*self.l[-i]*(1-self.l[-i]))\n",
    "        \n",
    "    def get_w_ptl(self):\n",
    "        w_ptl_n = [np.zeros((self.n_in_e[i+1],self.n_in_e[i] + 1)) for i in range(self.n_layer-1)]\n",
    "        for l_1 in range(self.n_layer-1):\n",
    "            del_i,del_j = np.meshgrid(np.r_[self.l[l_1],np.array([1]) ]\n",
    "                    ,self.l_ptl[l_1]*self.l[l_1 + 1]*(1-self.l[l_1 + 1]))\n",
    "                                       \n",
    "            w_ptl_n[l_1] = del_i*del_j\n",
    "        return(w_ptl_n)\n",
    "    \n",
    "    def bk_propa(self,eta,n_epoch,x,y):\n",
    "        # l_ptl index i is i + 1 in network\n",
    "        \n",
    "        self.er_rec = []\n",
    "        for epoch in range(n_epoch):\n",
    "            self.w_ptl = [np.zeros((self.n_in_e[i+1],self.n_in_e[i]+1)) for i in range(self.n_layer-1)]\n",
    "            error = 0\n",
    "            for  xx,yy in zip(x,y):\n",
    "                self.propa(xx)\n",
    "                self.get_l_ptl(yy)\n",
    "                w_ptl_n = self.get_w_ptl()\n",
    "                for i in range(self.n_layer -1):\n",
    "                    self.w_ptl[i] = self.w_ptl[i] + w_ptl_n[i]\n",
    "                if epoch % 500 == 0:\n",
    "#                     print(self.l[-1])\n",
    "                    error = error + np.sum( (yy - self.l[-1])**2 )\n",
    "            for i in range(self.n_layer-1):\n",
    "                self.w[i] = self.w[i] -eta*self.w_ptl[i]\n",
    "            if epoch % 500 == 0:\n",
    "                self.er_rec.append([epoch,error])\n",
    "                print(epoch, error ) \n",
    "                \n",
    "    def propa_data(self,data):\n",
    "        self.l[0] = data\n",
    "        for i in range(self.n_layer -1 ):\n",
    "            u = self.w[i].dot(np.r_[self.l[i],np.array([1])])\n",
    "            self.l[i+1] = self.activation(u)\n",
    "                \n",
    "                \n",
    "                "
   ]
  },
  {
   "cell_type": "code",
   "execution_count": 34,
   "metadata": {
    "ExecuteTime": {
     "end_time": "2019-02-11T06:35:37.068496Z",
     "start_time": "2019-02-11T06:35:37.062208Z"
    },
    "scrolled": false
   },
   "outputs": [
    {
     "name": "stdout",
     "output_type": "stream",
     "text": [
      "# of layers : 3\n",
      "# of each neurons for each layer : [2, 2, 1]\n",
      "----------weights----------\n",
      "[array([[-0.45040974,  0.20210378,  0.87702839],\n",
      "       [ 0.41459262, -0.47319367, -0.75532816]]), array([[-0.08255154,  0.949625  ,  0.36114875]])]\n",
      "----------state of neurons----------\n",
      "[[0, 0], array([0.70620605, 0.31966143]), array([0.64712117])]\n"
     ]
    }
   ],
   "source": [
    "Ptr_b = backpropagation()\n",
    "Ptr_b.create([2,2,1])\n",
    "Ptr_b.structure()        "
   ]
  },
  {
   "cell_type": "code",
   "execution_count": 35,
   "metadata": {
    "ExecuteTime": {
     "end_time": "2019-02-11T06:37:07.296885Z",
     "start_time": "2019-02-11T06:35:39.335353Z"
    },
    "scrolled": true
   },
   "outputs": [
    {
     "name": "stdout",
     "output_type": "stream",
     "text": [
      "0 1.0845138332030162\n",
      "500 0.9858475476781985\n",
      "1000 0.89461110160475\n",
      "1500 0.7621820754074731\n",
      "2000 0.7140481105019613\n",
      "2500 0.636141183991283\n",
      "3000 0.15021422058266024\n",
      "3500 0.049333508528988844\n",
      "4000 0.02780523860502007\n",
      "4500 0.019032818104318783\n",
      "5000 0.014354089610969466\n",
      "5500 0.011470100864482842\n",
      "6000 0.009523994290716403\n",
      "6500 0.0081267507051005\n",
      "7000 0.007077223133958211\n",
      "7500 0.006261311622994311\n",
      "8000 0.005609633558414878\n",
      "8500 0.005077648965982163\n",
      "9000 0.004635495274310427\n",
      "9500 0.004262423661968845\n"
     ]
    }
   ],
   "source": [
    "Ptr_b.bk_propa(0.2,int(10000),x,y)"
   ]
  },
  {
   "cell_type": "code",
   "execution_count": 36,
   "metadata": {
    "ExecuteTime": {
     "end_time": "2019-02-11T06:37:30.167792Z",
     "start_time": "2019-02-11T06:37:29.968675Z"
    }
   },
   "outputs": [
    {
     "data": {
      "text/plain": [
       "<matplotlib.legend.Legend at 0x122c74208>"
      ]
     },
     "execution_count": 36,
     "metadata": {},
     "output_type": "execute_result"
    },
    {
     "data": {
      "image/png": "[encoded data removed]",
      "text/plain": [
       "<Figure size 432x288 with 1 Axes>"
      ]
     },
     "metadata": {},
     "output_type": "display_data"
    }
   ],
   "source": [
    "rec1 = np.ravel(Ptr_b.er_rec).reshape((2,-1),order=\"F\")\n",
    "plt.plot(rec1[0],rec1[1],label=\"perceptron with back propagation, \\n[2,2,1]\")\n",
    "plt.legend()"
   ]
  },
  {
   "cell_type": "code",
   "execution_count": 37,
   "metadata": {},
   "outputs": [
    {
     "data": {
      "text/plain": [
       "<matplotlib.legend.Legend at 0x122c34240>"
      ]
     },
     "execution_count": 37,
     "metadata": {},
     "output_type": "execute_result"
    },
    {
     "data": {
      "image/png": "[encoded data removed]",
      "text/plain": [
       "<Figure size 600x600 with 1 Axes>"
      ]
     },
     "metadata": {},
     "output_type": "display_data"
    }
   ],
   "source": [
    "rec1 = np.ravel(Ptr_b.er_rec).reshape((2,-1),order=\"F\")\n",
    "     \n",
    "fig = plt.figure(figsize=(4,4),dpi=150) \n",
    "ax = fig.add_subplot(1,1,1) \n",
    "ax.set_yscale(\"log\")\n",
    "ax.plot(rec1[0],rec1[1],label=\"perceptron with back propagation, \\n[2,2,1]\")\n",
    "ax.plot(rec[0],rec[1],label=\"perceptron with only one layer ,\\n[2,128,1]\")\n",
    "     \n",
    "#ax.set_xlabel(r\"Description of $x$ coordinate (units)\") \n",
    "#ax.set_ylabel(r\"Description of $y$ coordinate (units)\") \n",
    "#ax.set_title(r\"Title here (remove for papers)\") \n",
    "#ax.set_xlim(np.min(x), np.max(x)) \n",
    "#ax.set_ylim(np.min(y),np.max(y)) \n",
    "ax.legend(bbox_to_anchor=(1, 1),loc=\"upper left\") "
   ]
  },
  {
   "cell_type": "code",
   "execution_count": 38,
   "metadata": {},
   "outputs": [
    {
     "data": {
      "text/plain": [
       "[array([[-5.29604993,  4.99249987, -2.76780112],\n",
       "        [ 6.3739615 , -6.26435392, -3.66136348]]),\n",
       " array([[ 8.28390048,  8.03501458, -4.02569435]])]"
      ]
     },
     "execution_count": 38,
     "metadata": {},
     "output_type": "execute_result"
    }
   ],
   "source": [
    "Ptr_b.w"
   ]
  },
  {
   "cell_type": "code",
   "execution_count": 39,
   "metadata": {},
   "outputs": [
    {
     "name": "stdout",
     "output_type": "stream",
     "text": [
      "[[0, 0], array([0.05908915, 0.02505364]), array([0.03439315])]\n",
      "[[0, 1], array([9.02445645e-01, 4.88983797e-05]), array([0.96924511])]\n",
      "[[1, 0], array([3.14613483e-04, 9.37765944e-01]), array([0.97102376])]\n",
      "[[1, 1], array([0.04430458, 0.02787495]), array([0.03122831])]\n"
     ]
    }
   ],
   "source": [
    "Ptr_b.propa_data([0,0])\n",
    "print(Ptr_b.l)\n",
    "Ptr_b.propa_data([0,1])\n",
    "print(Ptr_b.l)\n",
    "Ptr_b.propa_data([1,0])\n",
    "print(Ptr_b.l)\n",
    "Ptr_b.propa_data([1,1])\n",
    "print(Ptr_b.l)"
   ]
  },
  {
   "cell_type": "markdown",
   "metadata": {},
   "source": [
    "<img src=\"effectiveness_of_backpropa.png\" />"
   ]
  },
  {
   "cell_type": "code",
   "execution_count": null,
   "metadata": {},
   "outputs": [],
   "source": []
  },
  {
   "cell_type": "code",
   "execution_count": null,
   "metadata": {},
   "outputs": [],
   "source": []
  }
 ],
 "metadata": {
  "kernelspec": {
   "display_name": "Python 3",
   "language": "python",
   "name": "python3"
  },
  "language_info": {
   "codemirror_mode": {
    "name": "ipython",
    "version": 3
   },
   "file_extension": ".py",
   "mimetype": "text/x-python",
   "name": "python",
   "nbconvert_exporter": "python",
   "pygments_lexer": "ipython3",
   "version": "3.7.2"
  },
  "toc": {
   "base_numbering": 1,
   "nav_menu": {},
   "number_sections": false,
   "sideBar": true,
   "skip_h1_title": false,
   "title_cell": "Table of Contents",
   "title_sidebar": "Contents",
   "toc_cell": false,
   "toc_position": {},
   "toc_section_display": true,
   "toc_window_display": false
  },
  "varInspector": {
   "cols": {
    "lenName": 16,
    "lenType": 16,
    "lenVar": 40
   },
   "kernels_config": {
    "python": {
     "delete_cmd_postfix": "",
     "delete_cmd_prefix": "del ",
     "library": "var_list.py",
     "varRefreshCmd": "print(var_dic_list())"
    },
    "r": {
     "delete_cmd_postfix": ") ",
     "delete_cmd_prefix": "rm(",
     "library": "var_list.r",
     "varRefreshCmd": "cat(var_dic_list()) "
    }
   },
   "position": {
    "height": "434px",
    "left": "780px",
    "right": "20px",
    "top": "120px",
    "width": "350px"
   },
   "types_to_exclude": [
    "module",
    "function",
    "builtin_function_or_method",
    "instance",
    "_Feature"
   ],
   "window_display": false
  }
 },
 "nbformat": 4,
 "nbformat_minor": 2
}
