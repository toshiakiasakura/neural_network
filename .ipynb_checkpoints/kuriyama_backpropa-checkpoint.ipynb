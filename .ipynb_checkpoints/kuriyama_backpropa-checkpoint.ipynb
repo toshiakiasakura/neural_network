{
 "cells": [
  {
   "cell_type": "code",
   "execution_count": 1,
   "metadata": {},
   "outputs": [],
   "source": [
    "import numpy as np\n",
    "import pandas as pd\n",
    "from numpy.random import * \n",
    "import matplotlib.pyplot as plt\n",
    "%matplotlib inline"
   ]
  },
  {
   "cell_type": "markdown",
   "metadata": {},
   "source": [
    "## Multiple Perceptron "
   ]
  },
  {
   "cell_type": "code",
   "execution_count": 25,
   "metadata": {},
   "outputs": [],
   "source": [
    "class Net():\n",
    "    def activation(self,x):\n",
    "        return(1/(1+np.exp(-x)))\n",
    "    \n",
    "    def propa(self,xx = None):\n",
    "        if  xx :\n",
    "            self.l[0] = xx \n",
    "        for i in range(self.n_layer -1 ):\n",
    "            u = self.w[i].dot(np.r_[self.l[i],np.array([1])])\n",
    "            self.l[i+1] = self.activation(u)\n",
    "    \n",
    "    def create(self,n_in_e = [3,2,2,5]):\n",
    "        self.n_in_e = n_in_e\n",
    "        self.n_layer = len(n_in_e) \n",
    "        self.l = [[0 for i in range(n_in_e[j])] for j in range(self.n_layer)  ]\n",
    "        self.w = [rand(n_in_e[i+1],n_in_e[i]+1)*2 -1  for i in range(self.n_layer-1)]\n",
    "        self.propa()\n",
    "        \n",
    "    def structure(self):\n",
    "        print(\"# of layers :\",len(self.l))\n",
    "        print(\"# of each neurons for each layer :\",[len(self.l[i]) for i in range(len(self.l))])\n",
    "        print(\"----------weights----------\")\n",
    "        print(self.w)\n",
    "        print(\"----------state of neurons----------\")\n",
    "        print(self.l)"
   ]
  },
  {
   "cell_type": "code",
   "execution_count": 26,
   "metadata": {},
   "outputs": [
    {
     "name": "stdout",
     "output_type": "stream",
     "text": [
      "None\n",
      "-------checking part-------------\n",
      "# of layers : 4\n",
      "# of each neurons for each layer : [3, 2, 2, 5]\n",
      "----------weights----------\n",
      "[array([[-0.45040974,  0.20210378,  0.87702839,  0.41459262],\n",
      "       [-0.47319367, -0.75532816, -0.08255154,  0.949625  ]]), array([[ 0.36114875, -0.61349254, -0.90652155],\n",
      "       [ 0.90528787,  0.71729803,  0.65580635]]), array([[ 0.92780105,  0.1978729 ,  0.86183167],\n",
      "       [-0.70646237, -0.77207938, -0.2559422 ],\n",
      "       [ 0.53312025, -0.35771594,  0.27607016],\n",
      "       [-0.9815578 ,  0.08693008, -0.32449071],\n",
      "       [ 0.79604862,  0.88141408, -0.2317563 ]])]\n",
      "----------state of neurons----------\n",
      "[[0, 0, 0], array([0.60218859, 0.72103976]), array([0.24390386, 0.84789178]), array([0.77831963, 0.25295934, 0.52567636, 0.37984901, 0.67034521])]\n"
     ]
    }
   ],
   "source": [
    "N1 = Net()\n",
    "print(N1.create([3,2,2,5]))\n",
    "print(\"-------checking part-------------\")\n",
    "N1.structure()"
   ]
  },
  {
   "cell_type": "markdown",
   "metadata": {},
   "source": [
    "# Perceptron"
   ]
  },
  {
   "cell_type": "markdown",
   "metadata": {},
   "source": [
    "## data "
   ]
  },
  {
   "cell_type": "code",
   "execution_count": 27,
   "metadata": {},
   "outputs": [],
   "source": [
    "x = [[0,0],[0,1],[1,0],[1,1]]\n",
    "y = [[0],[1],[1],[0]]"
   ]
  },
  {
   "cell_type": "code",
   "execution_count": 28,
   "metadata": {},
   "outputs": [
    {
     "name": "stdout",
     "output_type": "stream",
     "text": [
      "[0, 0] [0]\n",
      "[0, 1] [1]\n",
      "[1, 0] [1]\n",
      "[1, 1] [0]\n"
     ]
    }
   ],
   "source": [
    "for i ,j in zip(x,y):\n",
    "    print(i,j)"
   ]
  },
  {
   "cell_type": "markdown",
   "metadata": {},
   "source": [
    "## learning section"
   ]
  },
  {
   "cell_type": "code",
   "execution_count": 29,
   "metadata": {},
   "outputs": [],
   "source": [
    "class Net_learn(Net):\n",
    "    def update(self,eta,n_epoch,x,y):\n",
    "        self.er_rec = []\n",
    "        for i in range(n_epoch):\n",
    "            del_E = np.zeros(129)\n",
    "            error = 0\n",
    "            for xx, yy in zip(x,y):\n",
    "                self.propa(xx)\n",
    "                output = self.l[-1]\n",
    "                z_hidden = np.r_[self.l[-2],np.array([1])]\n",
    "                del_E = del_E - (yy - output)*output*(1 - output)*z_hidden\n",
    "                if i % 10000 == 0:\n",
    "                    error = error + np.sum( (yy - output)**2 )\n",
    "            self.w[1] = self.w[1] - eta*del_E\n",
    "            if i%10000 == 0:\n",
    "                self.er_rec.append([i,error])\n",
    "                print(i,error,self.l[-1])"
   ]
  },
  {
   "cell_type": "code",
   "execution_count": 30,
   "metadata": {},
   "outputs": [
    {
     "name": "stdout",
     "output_type": "stream",
     "text": [
      "# of layers : 3\n",
      "# of each neurons for each layer : [2, 128, 1]\n",
      "----------weights----------\n",
      "[array([[-0.20776442,  0.        , -0.88235526],\n",
      "       [-0.18924142, -0.73964892, -0.82606118],\n",
      "       [ 0.        ,  0.        ,  0.16811175],\n",
      "       [ 0.        ,  0.76158412,  0.20190841],\n",
      "       [ 0.        ,  0.        , -0.40503181],\n",
      "       [ 0.38354922, -0.62194109,  0.60601507],\n",
      "       [ 0.        ,  0.51457208, -0.6444225 ],\n",
      "       [-0.83475942, -0.03585606,  0.05770776],\n",
      "       [ 0.39261654,  0.        ,  0.34274466],\n",
      "       [ 0.58653865, -0.91652437,  0.92671501],\n",
      "       [ 0.95078543,  0.        , -0.87018604],\n",
      "       [ 0.        , -0.95914006,  0.60170362],\n",
      "       [ 0.        ,  0.        ,  0.39978797],\n",
      "       [-0.88410039, -0.48678487,  0.02066357],\n",
      "       [ 0.99051757, -0.70696864, -0.10097044],\n",
      "       [ 0.20288075, -0.80545501, -0.42253024],\n",
      "       [ 0.4415998 ,  0.        ,  0.67715403],\n",
      "       [ 0.        ,  0.        ,  0.23100423],\n",
      "       [ 0.        ,  0.03357856,  0.25228734],\n",
      "       [ 0.        ,  0.81932515, -0.17339069],\n",
      "       [ 0.07093743, -0.31471375, -0.74084645],\n",
      "       [ 0.        ,  0.87134   ,  0.22545836],\n",
      "       [ 0.        , -0.56418313,  0.80634348],\n",
      "       [ 0.        , -0.54837455, -0.73588975],\n",
      "       [ 0.        ,  0.        ,  0.16211581],\n",
      "       [ 0.        ,  0.        ,  0.54214251],\n",
      "       [ 0.46559054,  0.        , -0.2850736 ],\n",
      "       [ 0.        , -0.7370568 ,  0.07566487],\n",
      "       [ 0.50944713,  0.        ,  0.13303399],\n",
      "       [-0.04663006,  0.        , -0.11852589],\n",
      "       [ 0.38747473,  0.43647436,  0.51276472],\n",
      "       [-0.92535598,  0.35767079, -0.0455584 ],\n",
      "       [ 0.        ,  0.        ,  0.67582902],\n",
      "       [ 0.        ,  0.        , -0.86428938],\n",
      "       [ 0.        ,  0.11825061, -0.6782946 ],\n",
      "       [ 0.        ,  0.        , -0.96130508],\n",
      "       [ 0.        , -0.93219497,  0.96366972],\n",
      "       [ 0.        ,  0.        , -0.17552518],\n",
      "       [-0.49364171, -0.52657825,  0.5462312 ],\n",
      "       [ 0.34251381,  0.        ,  0.70631083],\n",
      "       [ 0.04409913, -0.11446069,  0.10749688],\n",
      "       [ 0.3039897 ,  0.        ,  0.7845389 ],\n",
      "       [ 0.        ,  0.        ,  0.5018533 ],\n",
      "       [ 0.        ,  0.        , -0.14014779],\n",
      "       [ 0.67769318,  0.07470805, -0.49915213],\n",
      "       [ 0.        ,  0.        , -0.65160011],\n",
      "       [ 0.        ,  0.62186845,  0.82080425],\n",
      "       [ 0.        ,  0.        ,  0.30357274],\n",
      "       [ 0.2758414 ,  0.        ,  0.93110543],\n",
      "       [ 0.        ,  0.85703871,  0.22787025],\n",
      "       [ 0.96400783,  0.42997591, -0.98268146],\n",
      "       [ 0.        ,  0.        , -0.11364583],\n",
      "       [-0.65390055, -0.77094578,  0.59576119],\n",
      "       [ 0.2978103 ,  0.        , -0.42871958],\n",
      "       [ 0.        , -0.26331619,  0.07907709],\n",
      "       [ 0.        ,  0.67977496, -0.79008518],\n",
      "       [ 0.02126262,  0.        , -0.69386637],\n",
      "       [ 0.        ,  0.        ,  0.61573307],\n",
      "       [ 0.        ,  0.        , -0.75864072],\n",
      "       [-0.03862347,  0.        ,  0.82985485],\n",
      "       [ 0.        , -0.21028341,  0.94047906],\n",
      "       [ 0.        ,  0.87569888,  0.53802431],\n",
      "       [ 0.        ,  0.74200995, -0.70705808],\n",
      "       [ 0.        ,  0.        ,  0.6763411 ],\n",
      "       [ 0.42406237,  0.        , -0.29243089],\n",
      "       [ 0.        , -0.82037672, -0.61104365],\n",
      "       [ 0.        ,  0.        ,  0.3821679 ],\n",
      "       [ 0.12569409, -0.47248841,  0.05429376],\n",
      "       [ 0.60876583, -0.40984821, -0.6333229 ],\n",
      "       [ 0.        ,  0.48664246, -0.92341319],\n",
      "       [-0.13264066,  0.66416952, -0.97308288],\n",
      "       [ 0.01867078, -0.0409026 , -0.94069012],\n",
      "       [-0.97714295, -0.336312  , -0.87713784],\n",
      "       [ 0.        ,  0.        , -0.17573245],\n",
      "       [-0.9234556 ,  0.        , -0.83617092],\n",
      "       [ 0.        ,  0.        , -0.96618038],\n",
      "       [ 0.72258865,  0.82260045, -0.19824663],\n",
      "       [ 0.        ,  0.68608977,  0.23408911],\n",
      "       [-0.71880255, -0.54248877,  0.68299594],\n",
      "       [ 0.        ,  0.        ,  0.62227528],\n",
      "       [ 0.        ,  0.        ,  0.04773977],\n",
      "       [ 0.        ,  0.        , -0.95052243],\n",
      "       [ 0.38005277, -0.65681396,  0.38786135],\n",
      "       [ 0.        ,  0.        ,  0.16444581],\n",
      "       [-0.40836255, -0.35436773,  0.93397878],\n",
      "       [-0.61013067, -0.30520699, -0.79197187],\n",
      "       [-0.1964363 , -0.81430471,  0.00968761],\n",
      "       [ 0.48518148,  0.        , -0.81967766],\n",
      "       [-0.88763204,  0.        ,  0.97117171],\n",
      "       [ 0.        , -0.60316514,  0.86669663],\n",
      "       [ 0.        ,  0.58358349,  0.02243136],\n",
      "       [ 0.        ,  0.        , -0.77349373],\n",
      "       [ 0.80962795, -0.99155217, -0.85299224],\n",
      "       [ 0.        ,  0.        , -0.39414063],\n",
      "       [ 0.        ,  0.        , -0.80815987],\n",
      "       [ 0.        ,  0.46205528,  0.29641987],\n",
      "       [ 0.        ,  0.        , -0.00836768],\n",
      "       [ 0.72952993,  0.        ,  0.50898495],\n",
      "       [-0.12575362, -0.19957582,  0.44583263],\n",
      "       [ 0.        ,  0.        , -0.83907277],\n",
      "       [ 0.18855113, -0.43815707,  0.48489517],\n",
      "       [ 0.        ,  0.51507337, -0.54727972],\n",
      "       [ 0.        ,  0.        , -0.4084726 ],\n",
      "       [-0.60881237,  0.09776408, -0.58001566],\n",
      "       [ 0.55698434, -0.03064019,  0.27868079],\n",
      "       [ 0.        ,  0.84936521,  0.4346799 ],\n",
      "       [-0.69037278,  0.        , -0.62718015],\n",
      "       [ 0.65932913,  0.        ,  0.92260134],\n",
      "       [ 0.        ,  0.        , -0.57454662],\n",
      "       [ 0.        ,  0.        , -0.39344193],\n",
      "       [ 0.        , -0.16188657,  0.62771657],\n",
      "       [ 0.        ,  0.        ,  0.74461065],\n",
      "       [-0.10295082,  0.        , -0.94058789],\n",
      "       [ 0.        ,  0.36189905, -0.62168363],\n",
      "       [ 0.        , -0.97372091,  0.32362123],\n",
      "       [ 0.        , -0.38008472, -0.3841051 ],\n",
      "       [-0.76505555,  0.89386284,  0.9547811 ],\n",
      "       [ 0.80895851,  0.        , -0.86914115],\n",
      "       [ 0.        ,  0.        , -0.69703257],\n",
      "       [ 0.29344039, -0.94153086,  0.50704175],\n",
      "       [ 0.        ,  0.        , -0.34514431],\n",
      "       [ 0.65698218,  0.        , -0.95060852],\n",
      "       [ 0.        , -0.50218946, -0.50160681],\n",
      "       [-0.6835264 ,  0.        , -0.14257931],\n",
      "       [-0.48315639,  0.        , -0.30140881],\n",
      "       [-0.33392844,  0.        , -0.36974543],\n",
      "       [-0.45954965,  0.80058924,  0.93394841],\n",
      "       [ 0.79339709,  0.        ,  0.29655843]]), array([[-0.37711637,  0.6199442 ,  0.60954579,  0.58883538, -0.77712965,\n",
      "         0.62319629,  0.55910468,  0.77016031, -0.3551579 , -0.78566914,\n",
      "        -0.67750049,  0.34557272,  0.42829979, -0.52553159,  0.61143474,\n",
      "         0.83659259,  0.96924369,  0.99409429,  0.03184792,  0.40016862,\n",
      "        -0.84688245,  0.80228299,  0.62716529, -0.28187657,  0.95140747,\n",
      "        -0.22802781, -0.96758122, -0.96265109,  0.08827909, -0.11370737,\n",
      "        -0.94859971, -0.26339097, -0.15935898, -0.18919208,  0.99615533,\n",
      "        -0.68664925, -0.12608219, -0.45953469,  0.93792687,  0.17961808,\n",
      "         0.40837285,  0.29987334,  0.51081417,  0.77062854, -0.49389453,\n",
      "        -0.54401239,  0.20528342, -0.52767168,  0.4619726 ,  0.32799784,\n",
      "        -0.52145016, -0.62817054, -0.37444857, -0.26734207,  0.17981358,\n",
      "         0.51847788, -0.35529844,  0.00404429,  0.16766213, -0.46679823,\n",
      "         0.42769329, -0.08545779,  0.30046274,  0.00533768, -0.13721287,\n",
      "         0.43553292, -0.97527831, -0.83941125,  0.15274589,  0.62724343,\n",
      "         0.12307247,  0.20718339, -0.55883835,  0.83908209, -0.5889986 ,\n",
      "         0.37667713, -0.24958036, -0.57694195,  0.64198268, -0.77085112,\n",
      "         0.54610139, -0.03387896,  0.89941951,  0.09940743,  0.04885242,\n",
      "         0.74716962,  0.29345164, -0.34153846, -0.97910136, -0.72580918,\n",
      "         0.54063582,  0.66613323,  0.32935931,  0.15111241,  0.81689621,\n",
      "         0.4287503 , -0.03619996,  0.41477978,  0.27874584, -0.95012111,\n",
      "         0.60614814,  0.49269743, -0.22586129,  0.17264196, -0.52728633,\n",
      "         0.97726042,  0.17756466, -0.60184423,  0.98033549,  0.70620279,\n",
      "        -0.31175793,  0.31408208,  0.86612077,  0.1181527 ,  0.23421015,\n",
      "        -0.06202159,  0.98965953,  0.86694742, -0.94348918, -0.10321412,\n",
      "        -0.32004818, -0.68847531, -0.40871061,  0.43450039, -0.02598094,\n",
      "        -0.38340423,  0.8398974 ,  0.391508  , -0.4465611 ]])]\n",
      "----------state of neurons----------\n",
      "[[0, 0], array([0.29268995, 0.30447856, 0.54192923, 0.55030632, 0.400104  ,\n",
      "       0.64703125, 0.34424751, 0.51442294, 0.58485708, 0.71640836,\n",
      "       0.29521559, 0.64604597, 0.59863672, 0.50516571, 0.47477881,\n",
      "       0.39591145, 0.66310321, 0.55749561, 0.56273941, 0.4567606 ,\n",
      "       0.32281908, 0.55612704, 0.69132978, 0.3239036 , 0.54044042,\n",
      "       0.63231068, 0.42921036, 0.5189072 , 0.53320953, 0.47040317,\n",
      "       0.62545436, 0.48861237, 0.66280714, 0.29644395, 0.33664204,\n",
      "       0.27661697, 0.72385594, 0.45623102, 0.63326076, 0.66958548,\n",
      "       0.52684837, 0.68665753, 0.62289477, 0.46502029, 0.37773994,\n",
      "       0.34262905, 0.69440703, 0.57531567, 0.7172995 , 0.55672233,\n",
      "       0.27236005, 0.47161908, 0.64468594, 0.39443212, 0.51975898,\n",
      "       0.31215038, 0.33317353, 0.64924748, 0.31894145, 0.69632424,\n",
      "       0.71919642, 0.6313527 , 0.33024922, 0.66292158, 0.42740885,\n",
      "       0.35182116, 0.59439587, 0.51357011, 0.34675746, 0.28426294,\n",
      "       0.27426644, 0.28076096, 0.29377124, 0.4561796 , 0.30234185,\n",
      "       0.27564249, 0.45060003, 0.55825649, 0.66440703, 0.65073585,\n",
      "       0.51193268, 0.27877977, 0.59576776, 0.54101906, 0.7178818 ,\n",
      "       0.31174543, 0.50242188, 0.30583209, 0.72535298, 0.70405787,\n",
      "       0.5056076 , 0.31572383, 0.29880554, 0.40272093, 0.30828276,\n",
      "       0.57356709, 0.49790809, 0.62456849, 0.60964795, 0.30173011,\n",
      "       0.61890313, 0.36649576, 0.39927842, 0.35892899, 0.56922277,\n",
      "       0.60699063, 0.34815021, 0.71557185, 0.36018838, 0.402889  ,\n",
      "       0.65197152, 0.67800325, 0.28078161, 0.34939863, 0.58020652,\n",
      "       0.40513718, 0.72207568, 0.29543304, 0.33247047, 0.62411273,\n",
      "       0.41456041, 0.27876246, 0.37716314, 0.46441544, 0.42521312,\n",
      "       0.40860254, 0.71787564, 0.57360098]), array([0.99400887])]\n"
     ]
    }
   ],
   "source": [
    "Ptr = Net_learn()\n",
    "Ptr.create([2,128,1])\n",
    "np.random.seed(10)\n",
    "for i in range(128):\n",
    "    if rand(1)<0.5:\n",
    "        Ptr.w[0][i,0] = 0\n",
    "    if rand(1) < 0.5:\n",
    "        Ptr.w[0][i,1] = 0\n",
    "Ptr.structure()        "
   ]
  },
  {
   "cell_type": "code",
   "execution_count": 31,
   "metadata": {
    "scrolled": true
   },
   "outputs": [
    {
     "name": "stdout",
     "output_type": "stream",
     "text": [
      "0 1.9783805736065512 [0.99510382]\n",
      "10000 0.3937512297712808 [0.12002771]\n",
      "20000 0.04291249402438798 [0.104425]\n",
      "30000 0.03287724433485082 [0.09139659]\n"
     ]
    },
    {
     "ename": "KeyboardInterrupt",
     "evalue": "",
     "output_type": "error",
     "traceback": [
      "\u001b[0;31m---------------------------------------------------------------------------\u001b[0m",
      "\u001b[0;31mKeyboardInterrupt\u001b[0m                         Traceback (most recent call last)",
      "\u001b[0;32m<ipython-input-31-7bfce4739e70>\u001b[0m in \u001b[0;36m<module>\u001b[0;34m()\u001b[0m\n\u001b[0;32m----> 1\u001b[0;31m \u001b[0mPtr\u001b[0m\u001b[0;34m.\u001b[0m\u001b[0mupdate\u001b[0m\u001b[0;34m(\u001b[0m\u001b[0;36m0.5\u001b[0m\u001b[0;34m,\u001b[0m\u001b[0mint\u001b[0m\u001b[0;34m(\u001b[0m\u001b[0;36m500000\u001b[0m\u001b[0;34m)\u001b[0m\u001b[0;34m,\u001b[0m\u001b[0mx\u001b[0m\u001b[0;34m,\u001b[0m\u001b[0my\u001b[0m\u001b[0;34m)\u001b[0m\u001b[0;34m\u001b[0m\u001b[0m\n\u001b[0m",
      "\u001b[0;32m<ipython-input-29-156dba1181f0>\u001b[0m in \u001b[0;36mupdate\u001b[0;34m(self, eta, n_epoch, x, y)\u001b[0m\n\u001b[1;32m      6\u001b[0m             \u001b[0merror\u001b[0m \u001b[0;34m=\u001b[0m \u001b[0;36m0\u001b[0m\u001b[0;34m\u001b[0m\u001b[0m\n\u001b[1;32m      7\u001b[0m             \u001b[0;32mfor\u001b[0m \u001b[0mxx\u001b[0m\u001b[0;34m,\u001b[0m \u001b[0myy\u001b[0m \u001b[0;32min\u001b[0m \u001b[0mzip\u001b[0m\u001b[0;34m(\u001b[0m\u001b[0mx\u001b[0m\u001b[0;34m,\u001b[0m\u001b[0my\u001b[0m\u001b[0;34m)\u001b[0m\u001b[0;34m:\u001b[0m\u001b[0;34m\u001b[0m\u001b[0m\n\u001b[0;32m----> 8\u001b[0;31m                 \u001b[0mself\u001b[0m\u001b[0;34m.\u001b[0m\u001b[0mpropa\u001b[0m\u001b[0;34m(\u001b[0m\u001b[0mxx\u001b[0m\u001b[0;34m)\u001b[0m\u001b[0;34m\u001b[0m\u001b[0m\n\u001b[0m\u001b[1;32m      9\u001b[0m                 \u001b[0moutput\u001b[0m \u001b[0;34m=\u001b[0m \u001b[0mself\u001b[0m\u001b[0;34m.\u001b[0m\u001b[0ml\u001b[0m\u001b[0;34m[\u001b[0m\u001b[0;34m-\u001b[0m\u001b[0;36m1\u001b[0m\u001b[0;34m]\u001b[0m\u001b[0;34m\u001b[0m\u001b[0m\n\u001b[1;32m     10\u001b[0m                 \u001b[0mz_hidden\u001b[0m \u001b[0;34m=\u001b[0m \u001b[0mnp\u001b[0m\u001b[0;34m.\u001b[0m\u001b[0mr_\u001b[0m\u001b[0;34m[\u001b[0m\u001b[0mself\u001b[0m\u001b[0;34m.\u001b[0m\u001b[0ml\u001b[0m\u001b[0;34m[\u001b[0m\u001b[0;34m-\u001b[0m\u001b[0;36m2\u001b[0m\u001b[0;34m]\u001b[0m\u001b[0;34m,\u001b[0m\u001b[0mnp\u001b[0m\u001b[0;34m.\u001b[0m\u001b[0marray\u001b[0m\u001b[0;34m(\u001b[0m\u001b[0;34m[\u001b[0m\u001b[0;36m1\u001b[0m\u001b[0;34m]\u001b[0m\u001b[0;34m)\u001b[0m\u001b[0;34m]\u001b[0m\u001b[0;34m\u001b[0m\u001b[0m\n",
      "\u001b[0;32m<ipython-input-25-ef31014b7246>\u001b[0m in \u001b[0;36mpropa\u001b[0;34m(self, xx)\u001b[0m\n\u001b[1;32m      7\u001b[0m             \u001b[0mself\u001b[0m\u001b[0;34m.\u001b[0m\u001b[0ml\u001b[0m\u001b[0;34m[\u001b[0m\u001b[0;36m0\u001b[0m\u001b[0;34m]\u001b[0m \u001b[0;34m=\u001b[0m \u001b[0mxx\u001b[0m\u001b[0;34m\u001b[0m\u001b[0m\n\u001b[1;32m      8\u001b[0m         \u001b[0;32mfor\u001b[0m \u001b[0mi\u001b[0m \u001b[0;32min\u001b[0m \u001b[0mrange\u001b[0m\u001b[0;34m(\u001b[0m\u001b[0mself\u001b[0m\u001b[0;34m.\u001b[0m\u001b[0mn_layer\u001b[0m \u001b[0;34m-\u001b[0m\u001b[0;36m1\u001b[0m \u001b[0;34m)\u001b[0m\u001b[0;34m:\u001b[0m\u001b[0;34m\u001b[0m\u001b[0m\n\u001b[0;32m----> 9\u001b[0;31m             \u001b[0mu\u001b[0m \u001b[0;34m=\u001b[0m \u001b[0mself\u001b[0m\u001b[0;34m.\u001b[0m\u001b[0mw\u001b[0m\u001b[0;34m[\u001b[0m\u001b[0mi\u001b[0m\u001b[0;34m]\u001b[0m\u001b[0;34m.\u001b[0m\u001b[0mdot\u001b[0m\u001b[0;34m(\u001b[0m\u001b[0mnp\u001b[0m\u001b[0;34m.\u001b[0m\u001b[0mr_\u001b[0m\u001b[0;34m[\u001b[0m\u001b[0mself\u001b[0m\u001b[0;34m.\u001b[0m\u001b[0ml\u001b[0m\u001b[0;34m[\u001b[0m\u001b[0mi\u001b[0m\u001b[0;34m]\u001b[0m\u001b[0;34m,\u001b[0m\u001b[0mnp\u001b[0m\u001b[0;34m.\u001b[0m\u001b[0marray\u001b[0m\u001b[0;34m(\u001b[0m\u001b[0;34m[\u001b[0m\u001b[0;36m1\u001b[0m\u001b[0;34m]\u001b[0m\u001b[0;34m)\u001b[0m\u001b[0;34m]\u001b[0m\u001b[0;34m)\u001b[0m\u001b[0;34m\u001b[0m\u001b[0m\n\u001b[0m\u001b[1;32m     10\u001b[0m             \u001b[0mself\u001b[0m\u001b[0;34m.\u001b[0m\u001b[0ml\u001b[0m\u001b[0;34m[\u001b[0m\u001b[0mi\u001b[0m\u001b[0;34m+\u001b[0m\u001b[0;36m1\u001b[0m\u001b[0;34m]\u001b[0m \u001b[0;34m=\u001b[0m \u001b[0mself\u001b[0m\u001b[0;34m.\u001b[0m\u001b[0mactivation\u001b[0m\u001b[0;34m(\u001b[0m\u001b[0mu\u001b[0m\u001b[0;34m)\u001b[0m\u001b[0;34m\u001b[0m\u001b[0m\n\u001b[1;32m     11\u001b[0m \u001b[0;34m\u001b[0m\u001b[0m\n",
      "\u001b[0;32m~/anaconda3/envs/py36/lib/python3.6/site-packages/numpy/lib/index_tricks.py\u001b[0m in \u001b[0;36m__getitem__\u001b[0;34m(self, key)\u001b[0m\n\u001b[1;32m    338\u001b[0m                 \u001b[0mobjs\u001b[0m\u001b[0;34m[\u001b[0m\u001b[0mk\u001b[0m\u001b[0;34m]\u001b[0m \u001b[0;34m=\u001b[0m \u001b[0mobjs\u001b[0m\u001b[0;34m[\u001b[0m\u001b[0mk\u001b[0m\u001b[0;34m]\u001b[0m\u001b[0;34m.\u001b[0m\u001b[0mastype\u001b[0m\u001b[0;34m(\u001b[0m\u001b[0mfinal_dtype\u001b[0m\u001b[0;34m)\u001b[0m\u001b[0;34m\u001b[0m\u001b[0m\n\u001b[1;32m    339\u001b[0m \u001b[0;34m\u001b[0m\u001b[0m\n\u001b[0;32m--> 340\u001b[0;31m         \u001b[0mres\u001b[0m \u001b[0;34m=\u001b[0m \u001b[0mself\u001b[0m\u001b[0;34m.\u001b[0m\u001b[0mconcatenate\u001b[0m\u001b[0;34m(\u001b[0m\u001b[0mtuple\u001b[0m\u001b[0;34m(\u001b[0m\u001b[0mobjs\u001b[0m\u001b[0;34m)\u001b[0m\u001b[0;34m,\u001b[0m \u001b[0maxis\u001b[0m\u001b[0;34m=\u001b[0m\u001b[0maxis\u001b[0m\u001b[0;34m)\u001b[0m\u001b[0;34m\u001b[0m\u001b[0m\n\u001b[0m\u001b[1;32m    341\u001b[0m \u001b[0;34m\u001b[0m\u001b[0m\n\u001b[1;32m    342\u001b[0m         \u001b[0;32mif\u001b[0m \u001b[0mmatrix\u001b[0m\u001b[0;34m:\u001b[0m\u001b[0;34m\u001b[0m\u001b[0m\n",
      "\u001b[0;31mKeyboardInterrupt\u001b[0m: "
     ]
    }
   ],
   "source": [
    "Ptr.update(0.5,int(500000),x,y)"
   ]
  },
  {
   "cell_type": "code",
   "execution_count": 32,
   "metadata": {},
   "outputs": [
    {
     "data": {
      "text/plain": [
       "[<matplotlib.lines.Line2D at 0x1143ae048>]"
      ]
     },
     "execution_count": 32,
     "metadata": {},
     "output_type": "execute_result"
    },
    {
     "data": {
      "image/png": "[encoded data removed]",
      "text/plain": [
       "<Figure size 432x288 with 1 Axes>"
      ]
     },
     "metadata": {},
     "output_type": "display_data"
    }
   ],
   "source": [
    "rec = np.ravel(Ptr.er_rec).reshape((2,-1),order=\"F\")\n",
    "plt.yscale(\"log\")\n",
    "plt.plot(rec[0],rec[1])"
   ]
  },
  {
   "cell_type": "markdown",
   "metadata": {},
   "source": [
    "# Multiple Perceptron and Backpropagation"
   ]
  },
  {
   "cell_type": "markdown",
   "metadata": {},
   "source": [
    "## Back propagation theory \n",
    "### notation\n",
    "$ z_{i}^{(l)n} $ : neuron state in i th of l layers. and this state is n th batch.     \n",
    "\\_\\_\\_\\_\\_\\_\\_\\_$ z_{i}^{(l)n} $ is corresponding to z[ l ][ i ]   \n",
    "$ w_{ij}^{(l)} $ :  weights from j to i in l layers. l means between $z^{l}$ and $ z^{l + 1}$   \n",
    "\\_\\_\\_\\_\\_\\_\\_\\_$ w_{ij}^{(l)} $ : is corresponding to w[ l ][ i , j ]  \n",
    "$ E_n $ : is error function for batch n, so $ E $ is written as \n",
    "\\begin{equation}\n",
    "    E = \\sum_n E_n = \\sum_n \\sum_i \\frac{1}{2}( z_i^{Tn} - z_i^{On} )^2\n",
    "\\end{equation}\n",
    "where $ z_i^{Tn} $ is i th teacher data of n th batch  \n",
    "$ z_i^{On} $ is i th output data of n th batch\n",
    "### theory \n",
    "the basic relationship between z and w is\n",
    "\n",
    "\\begin{equation}\n",
    "    z_{i}^{(l+1)n} = f(\\sum_j w_{ij}^{(l)}z_{j}^{(l)n})\n",
    "\\end{equation}   \n",
    "we frequently use this relationship to calculate each renewal equations.\n",
    "\n",
    "the equation for parameteres updates is written as   \n",
    "\n",
    "\\begin{align}\n",
    "  w_{ij}^{(l-1)}(t+1) &= w_{ij}^{(l-1)}(t) - \\eta\\sum_{n}\\frac{\\partial E_n}{\\partial w_{ij}^{(l-1)}} \\\\  \n",
    "  &= w_{ij}^{(l-1)}(t) - \\eta\\sum_{n}\\frac{\\partial E_n}{\\partial z_{i}^{(l)n}}\n",
    "  \\frac{\\partial z_{i}^{(l)n}}{ w_{ij}^{(l-1)}}\n",
    "\\end{align}  \n",
    "\n",
    "\n",
    "    "
   ]
  },
  {
   "cell_type": "markdown",
   "metadata": {},
   "source": [
    "For the output data \n",
    "\\begin{equation}\n",
    "    \\frac{\\partial E_n}{\\partial z_{i}^{(l)n}} = - ( z_{i}^{Tn} - z_{i}^{On}) \\\\\n",
    "    \\frac{\\partial z_{i}^{(l)n}}{w_{ij}^{(l-1)}} = z_{i}^{(l)n}(1 - z_{i}^{(l)n}) z_{j}^{(l-1)n}\n",
    "\\end{equation}\n",
    "This equation below has assumption that activation func. is sigmoid func. \n"
   ]
  },
  {
   "cell_type": "markdown",
   "metadata": {},
   "source": [
    "For the hidden layers,\n",
    "$ \\frac{\\partial z_{i}^{(l)n}}{w_{ij}^{(l-1)}} $ is same.  \n",
    "But derivative of $E_n$ is different. This part is essential for back propagation.\n",
    " \n",
    "The parameter $z_{i}^{(l)n} $ affects all of $ z_{k}^{(l + 1)n} $, so that \n",
    "\n",
    "\\begin{align}\n",
    "    \\frac{\\partial E_n}{\\partial z_{i}^{(l)n}} &= \\sum_k \\frac{\\partial E_n}{\\partial z_{k}^{(l+1 )n}}\\frac{\\partial z_{k}^{(l+1)n}}{\\partial z_{i}^{(l)n}} \\\\\n",
    "    &= \\sum_k \\frac{\\partial E_n}{\\partial z_{k}^{(l+1 )n}}z_k^{(l+1)}(1- z_k^{(l+1)n})w_{ki}^{(l)} \n",
    "\\end{align}"
   ]
  },
  {
   "cell_type": "markdown",
   "metadata": {},
   "source": [
    "### For implementation \n",
    "we have to prepare \n",
    "1. Network ( # of layers, # of neurons for each layers ) \n",
    "2. store derivative values for neurons for each batch ( lack first input of network structure ) \n",
    "3. store derivative values for weights for each epoch\n",
    "\n",
    "### Algorithm \n",
    "for n\\_epoch     \n",
    "|\\_\\_\\_for n\\_batch   \n",
    "|\\_\\_\\_\\_\\_\\_1. propagation  \n",
    "|\\_\\_\\_\\_\\_\\_2. back propagation  \n",
    "|\\_\\_\\_\\_\\_\\_3. store derivative values  \n",
    "|\\_\\_\\_4. parameter update\n",
    "<br><br><br><br><br><br>\n",
    "<img src=\"back_propagation.jpg\" alt=\"Drawing\" style=\"width: 800px; transform :rotate(90deg);\"/>\n",
    "<br>"
   ]
  },
  {
   "cell_type": "code",
   "execution_count": 33,
   "metadata": {},
   "outputs": [],
   "source": [
    "class backpropagation(Net):\n",
    "    def get_l_ptl(self,yy):\n",
    "        self.l_ptl = [0 for i in self.n_in_e[1:]] \n",
    "        self.l_ptl[-1] = -(yy - self.l[-1])\n",
    "        for i in range(1,self.n_layer -1 ):\n",
    "            self.l_ptl[-(i+1)] = self.w[-i][:,:-1].T.dot(self.l_ptl[-i]*self.l[-i]*(1-self.l[-i]))\n",
    "        \n",
    "    def get_w_ptl(self):\n",
    "        w_ptl_n = [np.zeros((self.n_in_e[i+1],self.n_in_e[i] + 1)) for i in range(self.n_layer-1)]\n",
    "        for l_1 in range(self.n_layer-1):\n",
    "            del_i,del_j = np.meshgrid(np.r_[self.l[l_1],np.array([1]) ]\n",
    "                    ,self.l_ptl[l_1]*self.l[l_1 + 1]*(1-self.l[l_1 + 1]))\n",
    "                                       \n",
    "            w_ptl_n[l_1] = del_i*del_j\n",
    "        return(w_ptl_n)\n",
    "    \n",
    "    def bk_propa(self,eta,n_epoch,x,y):\n",
    "        # l_ptl index i is i + 1 in network\n",
    "        \n",
    "        self.er_rec = []\n",
    "        for epoch in range(n_epoch):\n",
    "            self.w_ptl = [np.zeros((self.n_in_e[i+1],self.n_in_e[i]+1)) for i in range(self.n_layer-1)]\n",
    "            error = 0\n",
    "            for  xx,yy in zip(x,y):\n",
    "                self.propa(xx)\n",
    "                self.get_l_ptl(yy)\n",
    "                w_ptl_n = self.get_w_ptl()\n",
    "                for i in range(self.n_layer -1):\n",
    "                    self.w_ptl[i] = self.w_ptl[i] + w_ptl_n[i]\n",
    "                if epoch % 1000 == 0:\n",
    "#                     print(self.l[-1])\n",
    "                    error = error + np.sum( (yy - self.l[-1])**2 )\n",
    "            for i in range(self.n_layer-1):\n",
    "                self.w[i] = self.w[i] -eta*self.w_ptl[i]\n",
    "            if epoch % 1000 == 0:\n",
    "                self.er_rec.append([epoch,error])\n",
    "                print(epoch, error ) \n",
    "                \n",
    "    def propa_data(self,data):\n",
    "        self.l[0] = data\n",
    "        for i in range(self.n_layer -1 ):\n",
    "            u = self.w[i].dot(np.r_[self.l[i],np.array([1])])\n",
    "            self.l[i+1] = self.activation(u)\n",
    "                \n",
    "                \n",
    "                "
   ]
  },
  {
   "cell_type": "code",
   "execution_count": 34,
   "metadata": {
    "scrolled": true
   },
   "outputs": [
    {
     "name": "stdout",
     "output_type": "stream",
     "text": [
      "# of layers : 3\n",
      "# of each neurons for each layer : [2, 2, 1]\n",
      "----------weights----------\n",
      "[array([[-0.45040974,  0.20210378,  0.87702839],\n",
      "       [ 0.41459262, -0.47319367, -0.75532816]]), array([[-0.08255154,  0.949625  ,  0.36114875]])]\n",
      "----------state of neurons----------\n",
      "[[0, 0], array([0.70620605, 0.31966143]), array([0.64712117])]\n"
     ]
    }
   ],
   "source": [
    "Ptr_b = backpropagation()\n",
    "Ptr_b.create([2,2,1])\n",
    "Ptr_b.structure()        "
   ]
  },
  {
   "cell_type": "code",
   "execution_count": 35,
   "metadata": {
    "scrolled": true
   },
   "outputs": [
    {
     "name": "stdout",
     "output_type": "stream",
     "text": [
      "0 1.0845138332030162\n",
      "1000 0.89461110160475\n",
      "2000 0.7140481105019613\n",
      "3000 0.15021422058266024\n",
      "4000 0.02780523860502007\n",
      "5000 0.014354089610969466\n",
      "6000 0.009523994290716403\n",
      "7000 0.007077223133958211\n",
      "8000 0.005609633558414878\n",
      "9000 0.004635495274310427\n",
      "10000 0.003943581528180291\n",
      "11000 0.003427692120838914\n"
     ]
    },
    {
     "ename": "KeyboardInterrupt",
     "evalue": "",
     "output_type": "error",
     "traceback": [
      "\u001b[0;31m---------------------------------------------------------------------------\u001b[0m",
      "\u001b[0;31mKeyboardInterrupt\u001b[0m                         Traceback (most recent call last)",
      "\u001b[0;32m<ipython-input-35-ecda2080034a>\u001b[0m in \u001b[0;36m<module>\u001b[0;34m()\u001b[0m\n\u001b[0;32m----> 1\u001b[0;31m \u001b[0mPtr_b\u001b[0m\u001b[0;34m.\u001b[0m\u001b[0mbk_propa\u001b[0m\u001b[0;34m(\u001b[0m\u001b[0;36m0.2\u001b[0m\u001b[0;34m,\u001b[0m\u001b[0mint\u001b[0m\u001b[0;34m(\u001b[0m\u001b[0;36m100000\u001b[0m\u001b[0;34m)\u001b[0m\u001b[0;34m,\u001b[0m\u001b[0mx\u001b[0m\u001b[0;34m,\u001b[0m\u001b[0my\u001b[0m\u001b[0;34m)\u001b[0m\u001b[0;34m\u001b[0m\u001b[0m\n\u001b[0m",
      "\u001b[0;32m<ipython-input-33-6bf2e9a707db>\u001b[0m in \u001b[0;36mbk_propa\u001b[0;34m(self, eta, n_epoch, x, y)\u001b[0m\n\u001b[1;32m     26\u001b[0m                 \u001b[0mself\u001b[0m\u001b[0;34m.\u001b[0m\u001b[0mpropa\u001b[0m\u001b[0;34m(\u001b[0m\u001b[0;34m)\u001b[0m\u001b[0;34m\u001b[0m\u001b[0m\n\u001b[1;32m     27\u001b[0m                 \u001b[0mself\u001b[0m\u001b[0;34m.\u001b[0m\u001b[0mget_l_ptl\u001b[0m\u001b[0;34m(\u001b[0m\u001b[0myy\u001b[0m\u001b[0;34m)\u001b[0m\u001b[0;34m\u001b[0m\u001b[0m\n\u001b[0;32m---> 28\u001b[0;31m                 \u001b[0mw_ptl_n\u001b[0m \u001b[0;34m=\u001b[0m \u001b[0mself\u001b[0m\u001b[0;34m.\u001b[0m\u001b[0mget_w_ptl\u001b[0m\u001b[0;34m(\u001b[0m\u001b[0;34m)\u001b[0m\u001b[0;34m\u001b[0m\u001b[0m\n\u001b[0m\u001b[1;32m     29\u001b[0m                 \u001b[0;32mfor\u001b[0m \u001b[0mi\u001b[0m \u001b[0;32min\u001b[0m \u001b[0mrange\u001b[0m\u001b[0;34m(\u001b[0m\u001b[0mself\u001b[0m\u001b[0;34m.\u001b[0m\u001b[0mn_layer\u001b[0m \u001b[0;34m-\u001b[0m\u001b[0;36m1\u001b[0m\u001b[0;34m)\u001b[0m\u001b[0;34m:\u001b[0m\u001b[0;34m\u001b[0m\u001b[0m\n\u001b[1;32m     30\u001b[0m                     \u001b[0mself\u001b[0m\u001b[0;34m.\u001b[0m\u001b[0mw_ptl\u001b[0m\u001b[0;34m[\u001b[0m\u001b[0mi\u001b[0m\u001b[0;34m]\u001b[0m \u001b[0;34m=\u001b[0m \u001b[0mself\u001b[0m\u001b[0;34m.\u001b[0m\u001b[0mw_ptl\u001b[0m\u001b[0;34m[\u001b[0m\u001b[0mi\u001b[0m\u001b[0;34m]\u001b[0m \u001b[0;34m+\u001b[0m \u001b[0mw_ptl_n\u001b[0m\u001b[0;34m[\u001b[0m\u001b[0mi\u001b[0m\u001b[0;34m]\u001b[0m\u001b[0;34m\u001b[0m\u001b[0m\n",
      "\u001b[0;32m<ipython-input-33-6bf2e9a707db>\u001b[0m in \u001b[0;36mget_w_ptl\u001b[0;34m(self)\u001b[0m\n\u001b[1;32m      9\u001b[0m         \u001b[0mw_ptl_n\u001b[0m \u001b[0;34m=\u001b[0m \u001b[0;34m[\u001b[0m\u001b[0mnp\u001b[0m\u001b[0;34m.\u001b[0m\u001b[0mzeros\u001b[0m\u001b[0;34m(\u001b[0m\u001b[0;34m(\u001b[0m\u001b[0mself\u001b[0m\u001b[0;34m.\u001b[0m\u001b[0mn_in_e\u001b[0m\u001b[0;34m[\u001b[0m\u001b[0mi\u001b[0m\u001b[0;34m+\u001b[0m\u001b[0;36m1\u001b[0m\u001b[0;34m]\u001b[0m\u001b[0;34m,\u001b[0m\u001b[0mself\u001b[0m\u001b[0;34m.\u001b[0m\u001b[0mn_in_e\u001b[0m\u001b[0;34m[\u001b[0m\u001b[0mi\u001b[0m\u001b[0;34m]\u001b[0m \u001b[0;34m+\u001b[0m \u001b[0;36m1\u001b[0m\u001b[0;34m)\u001b[0m\u001b[0;34m)\u001b[0m \u001b[0;32mfor\u001b[0m \u001b[0mi\u001b[0m \u001b[0;32min\u001b[0m \u001b[0mrange\u001b[0m\u001b[0;34m(\u001b[0m\u001b[0mself\u001b[0m\u001b[0;34m.\u001b[0m\u001b[0mn_layer\u001b[0m\u001b[0;34m-\u001b[0m\u001b[0;36m1\u001b[0m\u001b[0;34m)\u001b[0m\u001b[0;34m]\u001b[0m\u001b[0;34m\u001b[0m\u001b[0m\n\u001b[1;32m     10\u001b[0m         \u001b[0;32mfor\u001b[0m \u001b[0ml_1\u001b[0m \u001b[0;32min\u001b[0m \u001b[0mrange\u001b[0m\u001b[0;34m(\u001b[0m\u001b[0mself\u001b[0m\u001b[0;34m.\u001b[0m\u001b[0mn_layer\u001b[0m\u001b[0;34m-\u001b[0m\u001b[0;36m1\u001b[0m\u001b[0;34m)\u001b[0m\u001b[0;34m:\u001b[0m\u001b[0;34m\u001b[0m\u001b[0m\n\u001b[0;32m---> 11\u001b[0;31m             del_i,del_j = np.meshgrid(np.r_[self.l[l_1],np.array([1]) ]\n\u001b[0m\u001b[1;32m     12\u001b[0m                     ,self.l_ptl[l_1]*self.l[l_1 + 1]*(1-self.l[l_1 + 1]))\n\u001b[1;32m     13\u001b[0m \u001b[0;34m\u001b[0m\u001b[0m\n",
      "\u001b[0;32m~/anaconda3/envs/py36/lib/python3.6/site-packages/numpy/lib/index_tricks.py\u001b[0m in \u001b[0;36m__getitem__\u001b[0;34m(self, key)\u001b[0m\n\u001b[1;32m    245\u001b[0m         \u001b[0mself\u001b[0m\u001b[0;34m.\u001b[0m\u001b[0mndmin\u001b[0m \u001b[0;34m=\u001b[0m \u001b[0mndmin\u001b[0m\u001b[0;34m\u001b[0m\u001b[0m\n\u001b[1;32m    246\u001b[0m \u001b[0;34m\u001b[0m\u001b[0m\n\u001b[0;32m--> 247\u001b[0;31m     \u001b[0;32mdef\u001b[0m \u001b[0m__getitem__\u001b[0m\u001b[0;34m(\u001b[0m\u001b[0mself\u001b[0m\u001b[0;34m,\u001b[0m \u001b[0mkey\u001b[0m\u001b[0;34m)\u001b[0m\u001b[0;34m:\u001b[0m\u001b[0;34m\u001b[0m\u001b[0m\n\u001b[0m\u001b[1;32m    248\u001b[0m         \u001b[0;31m# handle matrix builder syntax\u001b[0m\u001b[0;34m\u001b[0m\u001b[0;34m\u001b[0m\u001b[0m\n\u001b[1;32m    249\u001b[0m         \u001b[0;32mif\u001b[0m \u001b[0misinstance\u001b[0m\u001b[0;34m(\u001b[0m\u001b[0mkey\u001b[0m\u001b[0;34m,\u001b[0m \u001b[0mstr\u001b[0m\u001b[0;34m)\u001b[0m\u001b[0;34m:\u001b[0m\u001b[0;34m\u001b[0m\u001b[0m\n",
      "\u001b[0;31mKeyboardInterrupt\u001b[0m: "
     ]
    }
   ],
   "source": [
    "Ptr_b.bk_propa(0.2,int(100000),x,y)"
   ]
  },
  {
   "cell_type": "code",
   "execution_count": 36,
   "metadata": {},
   "outputs": [
    {
     "data": {
      "text/plain": [
       "<matplotlib.legend.Legend at 0x11461a080>"
      ]
     },
     "execution_count": 36,
     "metadata": {},
     "output_type": "execute_result"
    },
    {
     "data": {
      "image/png": "[encoded data removed]",
      "text/plain": [
       "<Figure size 600x600 with 1 Axes>"
      ]
     },
     "metadata": {},
     "output_type": "display_data"
    }
   ],
   "source": [
    "rec1 = np.ravel(Ptr_b.er_rec).reshape((2,-1),order=\"F\")\n",
    "     \n",
    "fig = plt.figure(figsize=(4,4),dpi=150) \n",
    "ax = fig.add_subplot(1,1,1) \n",
    "ax.set_yscale(\"log\")\n",
    "ax.plot(rec1[0],rec1[1],label=\"perceptron with back propagation, \\n[2,2,1]\")\n",
    "ax.plot(rec[0],rec[1],label=\"perceptron with only one layer ,\\n[2,128,1]\")\n",
    "     \n",
    "#ax.set_xlabel(r\"Description of $x$ coordinate (units)\") \n",
    "#ax.set_ylabel(r\"Description of $y$ coordinate (units)\") \n",
    "#ax.set_title(r\"Title here (remove for papers)\") \n",
    "#ax.set_xlim(np.min(x), np.max(x)) \n",
    "#ax.set_ylim(np.min(y),np.max(y)) \n",
    "ax.legend(bbox_to_anchor=(1, 1),loc=\"upper left\") "
   ]
  },
  {
   "cell_type": "code",
   "execution_count": 37,
   "metadata": {},
   "outputs": [
    {
     "data": {
      "text/plain": [
       "[array([[-5.3871134 ,  5.08579627, -2.819161  ],\n",
       "        [ 6.42313039, -6.32184882, -3.6750166 ]]),\n",
       " array([[ 8.48457826,  8.23427344, -4.12513676]])]"
      ]
     },
     "execution_count": 37,
     "metadata": {},
     "output_type": "execute_result"
    }
   ],
   "source": [
    "Ptr_b.w"
   ]
  },
  {
   "cell_type": "code",
   "execution_count": 39,
   "metadata": {},
   "outputs": [
    {
     "name": "stdout",
     "output_type": "stream",
     "text": [
      "[[0, 0], array([0.05629749, 0.0247223 ]), array([0.03095111])]\n",
      "[[0, 1], array([9.06075832e-01, 4.55403887e-05]), array([0.9724257])]\n",
      "[[1, 0], array([2.72861204e-04, 9.39806736e-01]), array([0.97380912])]\n",
      "[[1, 1], array([0.04227041, 0.0272855 ]), array([0.02814563])]\n"
     ]
    }
   ],
   "source": [
    "Ptr_b.propa_data([0,0])\n",
    "print(Ptr_b.l)\n",
    "Ptr_b.propa_data([0,1])\n",
    "print(Ptr_b.l)\n",
    "Ptr_b.propa_data([1,0])\n",
    "print(Ptr_b.l)\n",
    "Ptr_b.propa_data([1,1])\n",
    "print(Ptr_b.l)"
   ]
  },
  {
   "cell_type": "markdown",
   "metadata": {},
   "source": [
    "<img src=\"effectiveness_of_backpropa.png\" />"
   ]
  },
  {
   "cell_type": "code",
   "execution_count": null,
   "metadata": {},
   "outputs": [],
   "source": []
  }
 ],
 "metadata": {
  "kernelspec": {
   "display_name": "Python 3",
   "language": "python",
   "name": "python3"
  },
  "language_info": {
   "codemirror_mode": {
    "name": "ipython",
    "version": 3
   },
   "file_extension": ".py",
   "mimetype": "text/x-python",
   "name": "python",
   "nbconvert_exporter": "python",
   "pygments_lexer": "ipython3",
   "version": "3.6.4"
  },
  "toc": {
   "base_numbering": 1,
   "nav_menu": {},
   "number_sections": false,
   "sideBar": true,
   "skip_h1_title": false,
   "title_cell": "Table of Contents",
   "title_sidebar": "Contents",
   "toc_cell": false,
   "toc_position": {},
   "toc_section_display": true,
   "toc_window_display": false
  },
  "varInspector": {
   "cols": {
    "lenName": 16,
    "lenType": 16,
    "lenVar": 40
   },
   "kernels_config": {
    "python": {
     "delete_cmd_postfix": "",
     "delete_cmd_prefix": "del ",
     "library": "var_list.py",
     "varRefreshCmd": "print(var_dic_list())"
    },
    "r": {
     "delete_cmd_postfix": ") ",
     "delete_cmd_prefix": "rm(",
     "library": "var_list.r",
     "varRefreshCmd": "cat(var_dic_list()) "
    }
   },
   "position": {
    "height": "434px",
    "left": "780px",
    "right": "20px",
    "top": "120px",
    "width": "350px"
   },
   "types_to_exclude": [
    "module",
    "function",
    "builtin_function_or_method",
    "instance",
    "_Feature"
   ],
   "window_display": false
  }
 },
 "nbformat": 4,
 "nbformat_minor": 2
}
